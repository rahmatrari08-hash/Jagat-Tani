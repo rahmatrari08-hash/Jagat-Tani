# Import libraries
import tensorflow as tf
from tensorflow.keras.preprocessing.image import ImageDataGenerator
from tensorflow.keras.applications import MobileNetV2
from sklearn.model_selection import train_test_split
import matplotlib.pyplot as plt
import os

# Load dataset (placeholder)
# Gantilah dengan path ke dataset yang sesuai
dataset_path = 'path_to_your_dataset'  # Sesuaikan dengan path dataset Anda

# Setup ImageDataGenerator untuk preprocessing
datagen = ImageDataGenerator(rescale=1./255, validation_split=0.2)

# Menggunakan flow_from_directory untuk memuat data dari folder
train_data = datagen.flow_from_directory(dataset_path, subset='training', target_size=(224, 224))
val_data = datagen.flow_from_directory(dataset_path, subset='validation', target_size=(224, 224))

# Membuat model MobileNetV2 untuk transfer learning
base_model = MobileNetV2(weights='imagenet', include_top=False, input_shape=(224, 224, 3))
base_model.trainable = False  # Freeze base model

model = tf.keras.Sequential([
    base_model,
    tf.keras.layers.GlobalAveragePooling2D(),
    tf.keras.layers.Dense(4, activation='softmax')  # Output: 4 label (Sehat, Blas, Hawar, Bercak Coklat)
])

# Compile model
model.compile(optimizer='adam', loss='categorical_crossentropy', metrics=['accuracy'])

# Training model
history = model.fit(train_data, validation_data=val_data, epochs=10)

# Save the trained model
model.save('paddy_leaf_model.h5')

# Display training history
plt.plot(history.history['accuracy'], label='accuracy')
plt.plot(history.history['val_accuracy'], label='val_accuracy')
plt.xlabel('Epoch')
plt.ylabel('Accuracy')
plt.legend(loc='lower right')
plt.show()

# Evaluasi model pada data validasi
loss, accuracy = model.evaluate(val_data)
print(f'Validation Loss: {loss}')
print(f'Validation Accuracy: {accuracy}')

# Konversi model ke format TFLite untuk digunakan di Flutter
converter = tf.lite.TFLiteConverter.from_keras_model(model)
tflite_model = converter.convert()

# Simpan model TFLite
tflite_model_path = 'paddy_leaf_model.tflite'
with open(tflite_model_path, 'wb') as f:
    f.write(tflite_model)

print(f'Model TFLite telah disimpan di: {tflite_model_path}')
